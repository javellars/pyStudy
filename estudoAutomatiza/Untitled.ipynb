{
 "cells": [
  {
   "cell_type": "code",
   "execution_count": 105,
   "id": "cb3fde6b-e15d-423b-b6bb-559fb68f4389",
   "metadata": {},
   "outputs": [],
   "source": [
    "import pandas as pd"
   ]
  },
  {
   "cell_type": "code",
   "execution_count": 106,
   "id": "99ffab31-ee06-4470-8ff8-1e4014a9b9a8",
   "metadata": {},
   "outputs": [
    {
     "name": "stdout",
     "output_type": "stream",
     "text": [
      "       nome                     livro             genero           subgenero   validade\n",
      "0     maria                      Duna  Ficcao cientifica            distopia      1 ano\n",
      "1       joao                     1984  Ficcao cientifica            distopia       1ano\n",
      "2    marcelo    Orgulho e preconceito            Romance    Romance de epoca     2 anos\n",
      "3   fernanda          Sherlock Holmes            Romance    Romance de epoca     2 anos\n",
      "4     carla                   Dracula             Terror       Terror comico  vitalicio\n",
      "5    joaquim               IT A coisa            Terror        Terror comico  vitalicio\n",
      "6     carlos  mochileiro das galaxias  Ficcao cientifica      Ficcao comedia      1 ano\n",
      "7     joacir    entendendo algoritmos        Aprendizado  Estrutura de dados  vitalicio\n",
      "8    mariana               crepusculo            romance     romance vampiro     2 anos\n",
      "9   josefina           extraordinario  Ficcao cientifica              utopia        NaN\n",
      "10    cleide      diario de um banana             terror       Terror comico        NaN\n",
      "11   mariana        fazendo meu filme            Romance    Romance de epoca        NaN\n"
     ]
    }
   ],
   "source": [
    "df = pd.read_excel('listaLivros.xlsx')\n",
    "df.to_excel('planilha_convertida.xlsx', index=False)  # Salva o arquivo em formato Excel\n",
    "\n",
    "\n",
    "print(df.to_string())\n",
    "\n",
    "#pd.set_option('display.max_columns', None)  ## ajuste de colunas -> pra mostrar todas\n",
    "#pd.set_option('display.width', 1000)        ## ajuste de tamanho do df"
   ]
  },
  {
   "cell_type": "code",
   "execution_count": 107,
   "id": "02c62deb-3ebe-4c34-b72e-5ccba55d9bf0",
   "metadata": {},
   "outputs": [
    {
     "name": "stdout",
     "output_type": "stream",
     "text": [
      "Index(['nome ', 'livro', 'genero', 'subgenero', 'validade'], dtype='object')\n"
     ]
    }
   ],
   "source": [
    "print(df.columns)"
   ]
  },
  {
   "cell_type": "code",
   "execution_count": 108,
   "id": "3dacb95f-1362-419a-8d93-4738680c145d",
   "metadata": {},
   "outputs": [],
   "source": [
    "# Definindo as regras de validade\n",
    "def validade_genero(row):\n",
    "    validade = {\n",
    "        'Ficcao cientifica': '1 ano',\n",
    "        'Romance': '2 anos',\n",
    "        'Terror': 'vitalicio',\n",
    "        'Aprendizado': 'vitalicio'\n",
    "    }\n",
    "    return validade.get(row['genero'], 'Invalido')  # Se não encontrar, retorna 'Inválido'\n"
   ]
  },
  {
   "cell_type": "code",
   "execution_count": 109,
   "id": "af169f3d-88fc-4c5c-9888-5facc34c9bca",
   "metadata": {},
   "outputs": [
    {
     "name": "stdout",
     "output_type": "stream",
     "text": [
      "       nome                     livro             genero           subgenero   validade\n",
      "0     maria                      Duna  Ficcao cientifica            distopia      1 ano\n",
      "1       joao                     1984  Ficcao cientifica            distopia       1ano\n",
      "2    marcelo    Orgulho e preconceito            Romance    Romance de epoca     2 anos\n",
      "3   fernanda          Sherlock Holmes            Romance    Romance de epoca     2 anos\n",
      "4     carla                   Dracula             Terror       Terror comico  vitalicio\n",
      "5    joaquim               IT A coisa            Terror        Terror comico  vitalicio\n",
      "6     carlos  mochileiro das galaxias  Ficcao cientifica      Ficcao comedia      1 ano\n",
      "7     joacir    entendendo algoritmos        Aprendizado  Estrutura de dados  vitalicio\n",
      "8    mariana               crepusculo            romance     romance vampiro     2 anos\n",
      "9   josefina           extraordinario  Ficcao cientifica              utopia        NaN\n",
      "10    cleide      diario de um banana             terror       Terror comico        NaN\n",
      "11   mariana        fazendo meu filme            Romance    Romance de epoca        NaN\n"
     ]
    }
   ],
   "source": [
    "print(df)"
   ]
  },
  {
   "cell_type": "code",
   "execution_count": 110,
   "id": "4b3dad6d-3e60-445d-9319-601878aaa136",
   "metadata": {},
   "outputs": [],
   "source": [
    "df['validade'] = df.apply(validade_genero, axis=1)"
   ]
  },
  {
   "cell_type": "code",
   "execution_count": 111,
   "id": "38e6ea51-8e08-4228-adb4-0a8f7300efea",
   "metadata": {},
   "outputs": [],
   "source": [
    "## Salvando modificações em um banco\n",
    "df.to_csv('planilha_atualizada.csv', encoding='utf-8', index=False)\n"
   ]
  },
  {
   "cell_type": "code",
   "execution_count": 112,
   "id": "e9fd7bb9-7d6c-41b1-918d-2bd96ffd23e3",
   "metadata": {},
   "outputs": [
    {
     "name": "stdout",
     "output_type": "stream",
     "text": [
      "       nome                     livro             genero           subgenero   validade\n",
      "0     maria                      Duna  Ficcao cientifica            distopia      1 ano\n",
      "1       joao                     1984  Ficcao cientifica            distopia      1 ano\n",
      "2    marcelo    Orgulho e preconceito            Romance    Romance de epoca     2 anos\n",
      "3   fernanda          Sherlock Holmes            Romance    Romance de epoca     2 anos\n",
      "4     carla                   Dracula             Terror       Terror comico  vitalicio\n",
      "5    joaquim               IT A coisa            Terror        Terror comico   Invalido\n",
      "6     carlos  mochileiro das galaxias  Ficcao cientifica      Ficcao comedia      1 ano\n",
      "7     joacir    entendendo algoritmos        Aprendizado  Estrutura de dados  vitalicio\n",
      "8    mariana               crepusculo            romance     romance vampiro   Invalido\n",
      "9   josefina           extraordinario  Ficcao cientifica              utopia      1 ano\n",
      "10    cleide      diario de um banana             terror       Terror comico   Invalido\n",
      "11   mariana        fazendo meu filme            Romance    Romance de epoca     2 anos\n"
     ]
    }
   ],
   "source": [
    "print(df)\n"
   ]
  },
  {
   "cell_type": "code",
   "execution_count": 113,
   "id": "012efcb9-2239-43cd-ab13-3ec29294a059",
   "metadata": {},
   "outputs": [],
   "source": [
    "## Transformando esse banco em uma planilha atualizada\n",
    "\n",
    "df = pd.read_csv('planilha_atualizada.csv')  # Substitua 'planilha.csv' pelo caminho do seu arquivo CSV\n",
    "\n",
    "# Salvar os dados como um arquivo Excel (.xlsx)\n",
    "df.to_excel('arquivo_final.xlsx', index=False)  # Salva novamente como arquivo Excel (.xlsx)\n"
   ]
  },
  {
   "cell_type": "code",
   "execution_count": 115,
   "id": "fc78bc5c-b979-4bd1-bca2-08d884b4171d",
   "metadata": {},
   "outputs": [],
   "source": [
    "## Trabalhando com watchDogs\n",
    "\n",
    "from watchdog.observers import Observer\n",
    "from watchdog.events import FileSystemEventHandler"
   ]
  },
  {
   "cell_type": "code",
   "execution_count": 120,
   "id": "a5e3d6c0-6862-47c0-99ff-ce65c0919a6c",
   "metadata": {},
   "outputs": [],
   "source": [
    "## Classe de monitoramento \n",
    "\n",
    "class WatcherHandler(FileSystemEventHandler):\n",
    "    def on_modified(self, event):\n",
    "        # Verifica se o arquivo modificado é o que queremos\n",
    "        if event.src_path == 'listaLivros.xlsx':  # Mude para o nome do seu arquivo\n",
    "            print(f\"Arquivo modificado: {event.src_path}\")\n",
    "            processar_arquivo(event.src_path)"
   ]
  },
  {
   "cell_type": "code",
   "execution_count": null,
   "id": "c27a7231-57b8-4b5d-9496-e4f6da578739",
   "metadata": {},
   "outputs": [],
   "source": []
  },
  {
   "cell_type": "code",
   "execution_count": null,
   "id": "894058d8-066d-4bd9-bda2-42b515fb2fcf",
   "metadata": {},
   "outputs": [],
   "source": []
  }
 ],
 "metadata": {
  "kernelspec": {
   "display_name": "Python 3 (ipykernel)",
   "language": "python",
   "name": "python3"
  },
  "language_info": {
   "codemirror_mode": {
    "name": "ipython",
    "version": 3
   },
   "file_extension": ".py",
   "mimetype": "text/x-python",
   "name": "python",
   "nbconvert_exporter": "python",
   "pygments_lexer": "ipython3",
   "version": "3.12.7"
  }
 },
 "nbformat": 4,
 "nbformat_minor": 5
}
